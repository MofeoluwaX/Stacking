{
 "cells": [
  {
   "cell_type": "markdown",
   "metadata": {},
   "source": [
    "### Demographic data\n",
    "\n",
    "* customerid (Primary key used to merge to other data)\n",
    "* birthdate (date of birth of the customer)\n",
    "* bank_account_type (type of primary bank account)\n",
    "* longitude_gps \n",
    "* latitude_gps\n",
    "* bank_name_clients (name of the bank)\n",
    "* bank_branch_clients (location of the branch - not compulsory - so missing in a lot of the cases)\n",
    "* employment_status_clients (type of employment that customer has)\n",
    "* level_of_education_clients (highest level of education)\n",
    "\n",
    "### Performance data\n",
    "\n",
    "* customerid (Primary key used to merge to other data)\n",
    "* systemloanid (The id associated with the particular loan. The same customerId can have multiple systemloanid’s for each loan he/she has taken out)\n",
    "* loannumber (The number of the loan that you have to predict)\n",
    "* approveddate (Date that loan was approved)\n",
    "* creationdate (Date that loan application was created)\n",
    "* loanamount (Loan value taken)\n",
    "* totaldue (Total repayment required to settle the loan - this is the capital loan value disbursed +interest and fees)\n",
    "* termdays (Term of loan)\n",
    "* referredby (customerId of the customer that referred this person - is missing, then not referred)\n",
    "* good_bad_flag (good = settled loan on time; bad = did not settled loan on time) - this is the target variable that we need to predict\n",
    "\n",
    "### Previous loans data \n",
    "\n",
    "* customerid (Primary key used to merge to other data)\n",
    "* systemloanid (The id associated with the particular loan. The same customerId can have multiple systemloanid’s for each loan he/she has taken out)\n",
    "* loannumber (The number of the loan that you have to predict)\n",
    "* approveddate (Date that loan was approved)\n",
    "* creationdate (Date that loan application was created)\n",
    "* loanamount (Loan value taken)\n",
    "* totaldue (Total repayment required to settle the loan - this is the capital loan value disbursed +interest and fees)\n",
    "* closeddate (Date that the loan was settled)\n",
    "* referredby (customerId of the customer that referred this person - is missing, then not referred)\n",
    "* firstduedate (Date of first payment due in cases where the term is longer than 30 days. So in the case where the term is 60+ days - then there are multiple monthly payments due - and this dates reflects the date of the first payment)\n",
    "* firstrepaiddate (Actual date that he/she paid the first payment as defined above)"
   ]
  },
  {
   "cell_type": "markdown",
   "metadata": {},
   "source": [
    "## Importing Libraries"
   ]
  },
  {
   "cell_type": "code",
   "execution_count": 1,
   "metadata": {},
   "outputs": [],
   "source": [
    "import numpy as np\n",
    "import pandas as pd\n",
    "import matplotlib.pyplot as plt\n",
    "import seaborn as sns\n",
    "\n",
    "%matplotlib inline"
   ]
  },
  {
   "cell_type": "code",
   "execution_count": 2,
   "metadata": {},
   "outputs": [],
   "source": [
    "traindemographics = pd.read_csv('traindemographics.csv')\n",
    "trainperf = pd.read_csv('trainperf.csv', parse_dates= ['approveddate', 'creationdate'])\n",
    "trainprevloans = pd.read_csv('trainprevloans.csv',parse_dates= ['approveddate', 'creationdate','closeddate'])\n",
    "\n",
    "testdemographics = pd.read_csv('testdemographics.csv')\n",
    "testperf = pd.read_csv('testperf.csv', parse_dates= ['approveddate', 'creationdate'])\n",
    "testprevloans = pd.read_csv('testprevloans.csv',parse_dates= ['approveddate', 'creationdate','closeddate', 'firstduedate',\n",
    "                                                              'firstrepaiddate'])"
   ]
  },
  {
   "cell_type": "code",
   "execution_count": 3,
   "metadata": {},
   "outputs": [],
   "source": [
    "wdtrainperf = trainperf.drop(['approveddate', 'creationdate'], axis = 1)"
   ]
  },
  {
   "cell_type": "code",
   "execution_count": 4,
   "metadata": {},
   "outputs": [],
   "source": [
    "wdtestperf = testperf.drop(['approveddate', 'creationdate'], axis = 1)"
   ]
  },
  {
   "cell_type": "code",
   "execution_count": 5,
   "metadata": {},
   "outputs": [],
   "source": [
    "wdtrainperf['referredby'] = wdtrainperf['referredby'].fillna(0)"
   ]
  },
  {
   "cell_type": "code",
   "execution_count": 6,
   "metadata": {},
   "outputs": [],
   "source": [
    "wdtestperf['referredby'] = wdtestperf['referredby'].fillna(0)"
   ]
  },
  {
   "cell_type": "code",
   "execution_count": 7,
   "metadata": {},
   "outputs": [],
   "source": [
    "trainprevloans['referredby'] = trainprevloans['referredby'].fillna(0)"
   ]
  },
  {
   "cell_type": "code",
   "execution_count": 8,
   "metadata": {},
   "outputs": [],
   "source": [
    "testprevloans['referredby'] = testprevloans['referredby'].fillna(0)"
   ]
  },
  {
   "cell_type": "code",
   "execution_count": 9,
   "metadata": {},
   "outputs": [],
   "source": [
    "trainprevloans['creation_hour'] = trainprevloans['creationdate'].apply(lambda x: x.hour)\n",
    "testprevloans['creation_hour'] = testprevloans['creationdate'].apply(lambda x: x.hour)\n",
    "\n",
    "trainprevloans['approved_hour'] = trainprevloans['approveddate'].apply(lambda x: x.hour)\n",
    "testprevloans['approved_hour'] = testprevloans['approveddate'].apply(lambda x: x.hour)"
   ]
  },
  {
   "cell_type": "code",
   "execution_count": 10,
   "metadata": {},
   "outputs": [],
   "source": [
    "trainprevloans['creation_min'] = trainprevloans['creationdate'].apply(lambda x: x.minute)\n",
    "testprevloans['creation_min'] = testprevloans['creationdate'].apply(lambda x: x.minute)\n",
    "\n",
    "trainprevloans['approved_min'] = trainprevloans['approveddate'].apply(lambda x: x.minute)\n",
    "testprevloans['approved_min'] = testprevloans['approveddate'].apply(lambda x: x.minute)"
   ]
  },
  {
   "cell_type": "code",
   "execution_count": 11,
   "metadata": {},
   "outputs": [],
   "source": [
    "trainprevloans['aprroved_creation_time_diff'] = ((trainprevloans['approved_hour']\n",
    "                                                 - trainprevloans['creation_hour'])*60\n",
    "                                                 + (trainprevloans['approved_min']\n",
    "                                                   - trainprevloans['creation_min']))"
   ]
  },
  {
   "cell_type": "code",
   "execution_count": 12,
   "metadata": {},
   "outputs": [],
   "source": [
    "testprevloans['aprroved_creation_time_diff'] = ((testprevloans['approved_hour']\n",
    "                                                 - testprevloans['creation_hour'])*60\n",
    "                                                 + (testprevloans['approved_min']\n",
    "                                                   - testprevloans['creation_min']))"
   ]
  },
  {
   "cell_type": "code",
   "execution_count": 13,
   "metadata": {},
   "outputs": [],
   "source": [
    "trainprevloans['aprroved_creation_time_diff'] = np.abs(trainprevloans['aprroved_creation_time_diff'])"
   ]
  },
  {
   "cell_type": "code",
   "execution_count": 14,
   "metadata": {},
   "outputs": [],
   "source": [
    "trainprevloans['approveddate'] = pd.to_datetime(trainprevloans['approveddate'])\n",
    "trainprevloans['firstduedate'] = pd.to_datetime(trainprevloans['firstduedate'])\n",
    "trainprevloans['firstrepaiddate'] = pd.to_datetime(trainprevloans['firstrepaiddate'])"
   ]
  },
  {
   "cell_type": "code",
   "execution_count": 15,
   "metadata": {},
   "outputs": [],
   "source": [
    "testprevloans['approveddate'] = pd.to_datetime(testprevloans['approveddate'])\n",
    "testprevloans['firstduedate'] = pd.to_datetime(testprevloans['firstduedate'])\n",
    "testprevloans['firstrepaiddate'] = pd.to_datetime(testprevloans['firstrepaiddate'])"
   ]
  },
  {
   "cell_type": "code",
   "execution_count": 16,
   "metadata": {},
   "outputs": [],
   "source": [
    "trainprevloans['closeddate'] = pd.to_datetime(trainprevloans['closeddate'])\n",
    "testprevloans['closeddate'] = pd.to_datetime(testprevloans['closeddate'])"
   ]
  },
  {
   "cell_type": "code",
   "execution_count": 17,
   "metadata": {},
   "outputs": [],
   "source": [
    "trainprevloans['closedapproved'] = (trainprevloans['closeddate'].apply(lambda x: x.month)\n",
    "                                - trainprevloans['approveddate'].apply(lambda x: x.month)\n",
    "                               ) * 30 + ((trainprevloans['closeddate'].apply(lambda x: x.day)\n",
    "                                - (trainprevloans['approveddate'].apply(lambda x: x.day))))"
   ]
  },
  {
   "cell_type": "code",
   "execution_count": 18,
   "metadata": {},
   "outputs": [],
   "source": [
    "testprevloans['closedapproved'] = (testprevloans['closeddate'].apply(lambda x: x.month)\n",
    "                                - testprevloans['approveddate'].apply(lambda x: x.month)\n",
    "                               ) * 30 + ((testprevloans['closeddate'].apply(lambda x: x.day)\n",
    "                                - (testprevloans['approveddate'].apply(lambda x: x.day))))"
   ]
  },
  {
   "cell_type": "code",
   "execution_count": 19,
   "metadata": {},
   "outputs": [],
   "source": [
    "trainprevloans['dueandpaid'] = (trainprevloans['firstrepaiddate'].apply(lambda x: x.month)\n",
    "                                - trainprevloans['firstduedate'].apply(lambda x: x.month)\n",
    "                               ) * 30 + ((trainprevloans['firstrepaiddate'].apply(lambda x: x.day)\n",
    "                                - (trainprevloans['firstduedate'].apply(lambda x: x.day))))"
   ]
  },
  {
   "cell_type": "code",
   "execution_count": 20,
   "metadata": {},
   "outputs": [],
   "source": [
    "testprevloans['dueandpaid'] = (testprevloans['firstrepaiddate'].apply(lambda x: x.month)\n",
    "                                - testprevloans['firstduedate'].apply(lambda x: x.month)\n",
    "                               ) * 30 + ((testprevloans['firstrepaiddate'].apply(lambda x: x.day)\n",
    "                                - (testprevloans['firstduedate'].apply(lambda x: x.day))))"
   ]
  },
  {
   "cell_type": "code",
   "execution_count": 21,
   "metadata": {},
   "outputs": [],
   "source": [
    "for i in trainprevloans.index:\n",
    "    trainprevloans['Default'] = 1"
   ]
  },
  {
   "cell_type": "code",
   "execution_count": 22,
   "metadata": {},
   "outputs": [],
   "source": [
    "for i in testprevloans.index:\n",
    "    testprevloans['Default'] = 1"
   ]
  },
  {
   "cell_type": "code",
   "execution_count": 23,
   "metadata": {},
   "outputs": [],
   "source": [
    "trainprevloans['fr_year'] = trainprevloans['firstrepaiddate'].apply(lambda x: x.year)\n",
    "trainprevloans['fd_year'] = trainprevloans['firstduedate'].apply(lambda x: x.year)\n",
    "\n",
    "testprevloans['fr_year'] = testprevloans['firstrepaiddate'].apply(lambda x: x.year)\n",
    "testprevloans['fd_year'] = testprevloans['firstduedate'].apply(lambda x: x.year)"
   ]
  },
  {
   "cell_type": "code",
   "execution_count": 24,
   "metadata": {},
   "outputs": [],
   "source": [
    "trainprevloans['fr_month'] = trainprevloans['firstrepaiddate'].apply(lambda x: x.month)\n",
    "trainprevloans['fd_month'] = trainprevloans['firstduedate'].apply(lambda x: x.month)\n",
    "\n",
    "testprevloans['fr_month'] = testprevloans['firstrepaiddate'].apply(lambda x: x.month)\n",
    "testprevloans['fd_month'] = testprevloans['firstduedate'].apply(lambda x: x.month)"
   ]
  },
  {
   "cell_type": "code",
   "execution_count": 25,
   "metadata": {},
   "outputs": [],
   "source": [
    "trainprevloans['fr_day'] = trainprevloans['firstrepaiddate'].apply(lambda x: x.day)\n",
    "trainprevloans['fd_day'] = trainprevloans['firstduedate'].apply(lambda x: x.day)\n",
    "\n",
    "testprevloans['fr_day'] = testprevloans['firstrepaiddate'].apply(lambda x: x.day)\n",
    "testprevloans['fd_day'] = testprevloans['firstduedate'].apply(lambda x: x.day)"
   ]
  },
  {
   "cell_type": "code",
   "execution_count": 26,
   "metadata": {},
   "outputs": [
    {
     "data": {
      "text/plain": [
       "customerid                     5693\n",
       "systemloanid                   5693\n",
       "loannumber                     5693\n",
       "approveddate                   5693\n",
       "creationdate                   5693\n",
       "loanamount                     5693\n",
       "totaldue                       5693\n",
       "termdays                       5693\n",
       "closeddate                     5693\n",
       "referredby                     5693\n",
       "firstduedate                   5693\n",
       "firstrepaiddate                5693\n",
       "creation_hour                  5693\n",
       "approved_hour                  5693\n",
       "creation_min                   5693\n",
       "approved_min                   5693\n",
       "aprroved_creation_time_diff    5693\n",
       "closedapproved                 5693\n",
       "dueandpaid                     5693\n",
       "Default                        5693\n",
       "fr_year                        5693\n",
       "fd_year                        5693\n",
       "fr_month                       5693\n",
       "fd_month                       5693\n",
       "fr_day                         5693\n",
       "fd_day                         5693\n",
       "dtype: int64"
      ]
     },
     "execution_count": 26,
     "metadata": {},
     "output_type": "execute_result"
    }
   ],
   "source": [
    "trainprevloans[(trainprevloans['fr_year'] > trainprevloans['fd_year']) | (trainprevloans['fr_month'] > trainprevloans['fd_month']) | (trainprevloans['fr_day'] > trainprevloans['fd_day'])].apply(len)"
   ]
  },
  {
   "cell_type": "code",
   "execution_count": 27,
   "metadata": {},
   "outputs": [],
   "source": [
    "def default(df):\n",
    "    if (df['fr_year'] > df['fd_year']) | (df['fr_month'] > df['fd_month']) | (df['fr_day'] > df['fd_day']):\n",
    "        df['Default'] = 0\n",
    "        return df['Default']\n",
    "    else:\n",
    "        return df['Default']"
   ]
  },
  {
   "cell_type": "code",
   "execution_count": 28,
   "metadata": {},
   "outputs": [],
   "source": [
    "func_check = trainprevloans.head()"
   ]
  },
  {
   "cell_type": "code",
   "execution_count": 29,
   "metadata": {},
   "outputs": [
    {
     "data": {
      "text/plain": [
       "0    1\n",
       "1    1\n",
       "2    0\n",
       "3    1\n",
       "4    0\n",
       "dtype: int64"
      ]
     },
     "execution_count": 29,
     "metadata": {},
     "output_type": "execute_result"
    }
   ],
   "source": [
    "func_check.apply(default, axis = 1)"
   ]
  },
  {
   "cell_type": "code",
   "execution_count": 30,
   "metadata": {},
   "outputs": [],
   "source": [
    "trainprevloans['Default'] = trainprevloans.apply(default, axis = 1)"
   ]
  },
  {
   "cell_type": "code",
   "execution_count": 31,
   "metadata": {},
   "outputs": [],
   "source": [
    "testprevloans['Default'] = testprevloans.apply(default, axis = 1)"
   ]
  },
  {
   "cell_type": "code",
   "execution_count": 32,
   "metadata": {},
   "outputs": [],
   "source": [
    "trainprevloans = trainprevloans.drop(['creationdate'], axis = 1)"
   ]
  },
  {
   "cell_type": "code",
   "execution_count": 33,
   "metadata": {},
   "outputs": [],
   "source": [
    "testprevloans = testprevloans.drop(['creationdate'], axis = 1)"
   ]
  },
  {
   "cell_type": "code",
   "execution_count": 34,
   "metadata": {},
   "outputs": [],
   "source": [
    "trainprevloans = trainprevloans.drop(['closeddate','approveddate',\n",
    "                                     'firstrepaiddate', 'firstduedate'],\n",
    "                                    axis = 1)"
   ]
  },
  {
   "cell_type": "code",
   "execution_count": 35,
   "metadata": {},
   "outputs": [],
   "source": [
    "testprevloans = testprevloans.drop(['closeddate','approveddate',\n",
    "                                     'firstrepaiddate', 'firstduedate'],\n",
    "                                    axis = 1)"
   ]
  },
  {
   "cell_type": "code",
   "execution_count": 36,
   "metadata": {},
   "outputs": [],
   "source": [
    "trainprevloans['interest'] = trainprevloans['totaldue'] - trainprevloans['loanamount']"
   ]
  },
  {
   "cell_type": "code",
   "execution_count": 37,
   "metadata": {},
   "outputs": [],
   "source": [
    "trainperf['interests'] = trainperf['totaldue'] - trainperf['loanamount']"
   ]
  },
  {
   "cell_type": "code",
   "execution_count": 38,
   "metadata": {},
   "outputs": [],
   "source": [
    "testprevloans['interest'] = testprevloans['totaldue'] - testprevloans['loanamount']"
   ]
  },
  {
   "cell_type": "code",
   "execution_count": 39,
   "metadata": {},
   "outputs": [],
   "source": [
    "testperf['interests'] = testperf['totaldue'] - testperf['loanamount']"
   ]
  },
  {
   "cell_type": "code",
   "execution_count": 40,
   "metadata": {},
   "outputs": [],
   "source": [
    "#trainprevloans = trainprevloans.drop(['totaldue','loanamount'], axis = 1)"
   ]
  },
  {
   "cell_type": "code",
   "execution_count": 41,
   "metadata": {},
   "outputs": [],
   "source": [
    "#trainperf = trainperf.drop(['totaldue','loanamount'], axis = 1)\n",
    "#testperf = testperf.drop(['totaldue','loanamount'], axis = 1)"
   ]
  },
  {
   "cell_type": "code",
   "execution_count": 42,
   "metadata": {},
   "outputs": [],
   "source": [
    "#testprevloans = testprevloans.drop(['totaldue','loanamount'], axis = 1)"
   ]
  },
  {
   "cell_type": "code",
   "execution_count": 43,
   "metadata": {},
   "outputs": [
    {
     "data": {
      "text/plain": [
       "(5907, 22)"
      ]
     },
     "execution_count": 43,
     "metadata": {},
     "output_type": "execute_result"
    }
   ],
   "source": [
    "testprevloans.shape"
   ]
  },
  {
   "cell_type": "code",
   "execution_count": 44,
   "metadata": {},
   "outputs": [],
   "source": [
    "tpandtlmerge = trainprevloans.merge(wdtrainperf, on = 'customerid', how = 'outer')"
   ]
  },
  {
   "cell_type": "code",
   "execution_count": 45,
   "metadata": {},
   "outputs": [],
   "source": [
    "tspandtslmerge = testprevloans.merge(wdtestperf, on = 'customerid', how = 'outer')"
   ]
  },
  {
   "cell_type": "code",
   "execution_count": 46,
   "metadata": {},
   "outputs": [
    {
     "data": {
      "text/plain": [
       "(5915, 28)"
      ]
     },
     "execution_count": 46,
     "metadata": {},
     "output_type": "execute_result"
    }
   ],
   "source": [
    "tspandtslmerge.shape"
   ]
  },
  {
   "cell_type": "code",
   "execution_count": 47,
   "metadata": {},
   "outputs": [],
   "source": [
    "tpandtlmerge['good_bad_flag'] = tpandtlmerge['good_bad_flag'].map({'Good': 1,'Bad' : 0})"
   ]
  },
  {
   "cell_type": "code",
   "execution_count": 48,
   "metadata": {},
   "outputs": [
    {
     "data": {
      "text/plain": [
       "customerid                     0\n",
       "systemloanid_x                 9\n",
       "loannumber_x                   9\n",
       "loanamount_x                   9\n",
       "totaldue_x                     9\n",
       "termdays_x                     9\n",
       "referredby_x                   9\n",
       "creation_hour                  9\n",
       "approved_hour                  9\n",
       "creation_min                   9\n",
       "approved_min                   9\n",
       "aprroved_creation_time_diff    9\n",
       "closedapproved                 9\n",
       "dueandpaid                     9\n",
       "Default                        9\n",
       "fr_year                        9\n",
       "fd_year                        9\n",
       "fr_month                       9\n",
       "fd_month                       9\n",
       "fr_day                         9\n",
       "fd_day                         9\n",
       "interest                       9\n",
       "systemloanid_y                 0\n",
       "loannumber_y                   0\n",
       "loanamount_y                   0\n",
       "totaldue_y                     0\n",
       "termdays_y                     0\n",
       "referredby_y                   0\n",
       "good_bad_flag                  0\n",
       "dtype: int64"
      ]
     },
     "execution_count": 48,
     "metadata": {},
     "output_type": "execute_result"
    }
   ],
   "source": [
    "tpandtlmerge.isnull().sum()"
   ]
  },
  {
   "cell_type": "code",
   "execution_count": 49,
   "metadata": {},
   "outputs": [],
   "source": [
    "tmerge = tpandtlmerge.groupby('customerid')[tpandtlmerge.columns].mean()"
   ]
  },
  {
   "cell_type": "code",
   "execution_count": 50,
   "metadata": {},
   "outputs": [],
   "source": [
    "tsmerge = tspandtslmerge.groupby('customerid')[tspandtslmerge.columns].mean()"
   ]
  },
  {
   "cell_type": "code",
   "execution_count": 51,
   "metadata": {},
   "outputs": [],
   "source": [
    "tmerge.reset_index(inplace= True)"
   ]
  },
  {
   "cell_type": "code",
   "execution_count": 52,
   "metadata": {},
   "outputs": [],
   "source": [
    "tsmerge.reset_index(inplace=True)"
   ]
  },
  {
   "cell_type": "code",
   "execution_count": 53,
   "metadata": {},
   "outputs": [],
   "source": [
    "X = tmerge.iloc[:, :-1]\n",
    "y = tmerge['good_bad_flag']"
   ]
  },
  {
   "cell_type": "code",
   "execution_count": 54,
   "metadata": {},
   "outputs": [
    {
     "name": "stdout",
     "output_type": "stream",
     "text": [
      "<class 'pandas.core.frame.DataFrame'>\n",
      "RangeIndex: 4368 entries, 0 to 4367\n",
      "Data columns (total 27 columns):\n",
      " #   Column                       Non-Null Count  Dtype  \n",
      "---  ------                       --------------  -----  \n",
      " 0   customerid                   4368 non-null   object \n",
      " 1   systemloanid_x               4359 non-null   float64\n",
      " 2   loannumber_x                 4359 non-null   float64\n",
      " 3   loanamount_x                 4359 non-null   float64\n",
      " 4   totaldue_x                   4359 non-null   float64\n",
      " 5   termdays_x                   4359 non-null   float64\n",
      " 6   creation_hour                4359 non-null   float64\n",
      " 7   approved_hour                4359 non-null   float64\n",
      " 8   creation_min                 4359 non-null   float64\n",
      " 9   approved_min                 4359 non-null   float64\n",
      " 10  aprroved_creation_time_diff  4359 non-null   float64\n",
      " 11  closedapproved               4359 non-null   float64\n",
      " 12  dueandpaid                   4359 non-null   float64\n",
      " 13  Default                      4359 non-null   float64\n",
      " 14  fr_year                      4359 non-null   float64\n",
      " 15  fd_year                      4359 non-null   float64\n",
      " 16  fr_month                     4359 non-null   float64\n",
      " 17  fd_month                     4359 non-null   float64\n",
      " 18  fr_day                       4359 non-null   float64\n",
      " 19  fd_day                       4359 non-null   float64\n",
      " 20  interest                     4359 non-null   float64\n",
      " 21  systemloanid_y               4368 non-null   int64  \n",
      " 22  loannumber_y                 4368 non-null   int64  \n",
      " 23  loanamount_y                 4368 non-null   float64\n",
      " 24  totaldue_y                   4368 non-null   float64\n",
      " 25  termdays_y                   4368 non-null   int64  \n",
      " 26  good_bad_flag                4368 non-null   int64  \n",
      "dtypes: float64(22), int64(4), object(1)\n",
      "memory usage: 921.5+ KB\n"
     ]
    }
   ],
   "source": [
    "tmerge.info()"
   ]
  },
  {
   "cell_type": "code",
   "execution_count": 55,
   "metadata": {},
   "outputs": [],
   "source": [
    "X = np.abs(X.drop('customerid', axis = 1))"
   ]
  },
  {
   "cell_type": "code",
   "execution_count": 56,
   "metadata": {},
   "outputs": [],
   "source": [
    "tsmerge.drop('customerid', axis = 1, inplace= True)"
   ]
  },
  {
   "cell_type": "code",
   "execution_count": 57,
   "metadata": {},
   "outputs": [],
   "source": [
    "X['interestx'] = X['totaldue_x'] - X['loanamount_x']"
   ]
  },
  {
   "cell_type": "code",
   "execution_count": 58,
   "metadata": {},
   "outputs": [],
   "source": [
    "X['interesty'] = X['totaldue_y'] - X['loanamount_y']"
   ]
  },
  {
   "cell_type": "code",
   "execution_count": 59,
   "metadata": {},
   "outputs": [],
   "source": [
    "tsmerge['interestx'] = tsmerge['totaldue_x'] - tsmerge['loanamount_x']"
   ]
  },
  {
   "cell_type": "code",
   "execution_count": 60,
   "metadata": {},
   "outputs": [],
   "source": [
    "tsmerge['interesty'] = tsmerge['totaldue_y'] - tsmerge['loanamount_y']"
   ]
  },
  {
   "cell_type": "code",
   "execution_count": 61,
   "metadata": {},
   "outputs": [],
   "source": [
    "X = X.drop(['totaldue_y','totaldue_x','loanamount_x','loanamount_y', 'systemloanid_y', 'systemloanid_x'], axis = 1)"
   ]
  },
  {
   "cell_type": "code",
   "execution_count": 62,
   "metadata": {},
   "outputs": [],
   "source": [
    "tsmerge = tsmerge.drop(['totaldue_y','totaldue_x','loanamount_x','loanamount_y', 'systemloanid_y', 'systemloanid_x'], axis = 1)"
   ]
  },
  {
   "cell_type": "code",
   "execution_count": 63,
   "metadata": {},
   "outputs": [],
   "source": [
    "tsmerge = abs(tsmerge)"
   ]
  },
  {
   "cell_type": "code",
   "execution_count": 64,
   "metadata": {},
   "outputs": [],
   "source": [
    "X = X.fillna(np.round(X.mean()))"
   ]
  },
  {
   "cell_type": "code",
   "execution_count": 65,
   "metadata": {},
   "outputs": [],
   "source": [
    "from sklearn.model_selection import train_test_split"
   ]
  },
  {
   "cell_type": "code",
   "execution_count": 66,
   "metadata": {},
   "outputs": [],
   "source": [
    "from sklearn.ensemble import RandomForestClassifier"
   ]
  },
  {
   "cell_type": "code",
   "execution_count": 100,
   "metadata": {},
   "outputs": [],
   "source": [
    "X_train,X_test, y_train, y_test = train_test_split(X,y, test_size = 0.4,\n",
    "                                                   random_state = 101)"
   ]
  },
  {
   "cell_type": "code",
   "execution_count": 101,
   "metadata": {},
   "outputs": [],
   "source": [
    "rfc = RandomForestClassifier(n_estimators=1000, max_depth = None, min_samples_split=10,\n",
    "                            max_leaf_nodes = 20)"
   ]
  },
  {
   "cell_type": "code",
   "execution_count": 102,
   "metadata": {},
   "outputs": [
    {
     "data": {
      "text/plain": [
       "RandomForestClassifier(bootstrap=True, ccp_alpha=0.0, class_weight=None,\n",
       "                       criterion='gini', max_depth=None, max_features='auto',\n",
       "                       max_leaf_nodes=20, max_samples=None,\n",
       "                       min_impurity_decrease=0.0, min_impurity_split=None,\n",
       "                       min_samples_leaf=1, min_samples_split=10,\n",
       "                       min_weight_fraction_leaf=0.0, n_estimators=1000,\n",
       "                       n_jobs=None, oob_score=False, random_state=None,\n",
       "                       verbose=0, warm_start=False)"
      ]
     },
     "execution_count": 102,
     "metadata": {},
     "output_type": "execute_result"
    }
   ],
   "source": [
    "rfc.fit(X_train,y_train)"
   ]
  },
  {
   "cell_type": "code",
   "execution_count": 103,
   "metadata": {},
   "outputs": [],
   "source": [
    "from sklearn.metrics import accuracy_score, confusion_matrix, classification_report"
   ]
  },
  {
   "cell_type": "code",
   "execution_count": 104,
   "metadata": {},
   "outputs": [],
   "source": [
    "rfcpred = rfc.predict(X_test)"
   ]
  },
  {
   "cell_type": "code",
   "execution_count": 105,
   "metadata": {},
   "outputs": [
    {
     "name": "stdout",
     "output_type": "stream",
     "text": [
      "0.20080091533180777\n"
     ]
    }
   ],
   "source": [
    "error = 1 - accuracy_score(y_test, rfcpred)\n",
    "print(error)"
   ]
  },
  {
   "cell_type": "code",
   "execution_count": 106,
   "metadata": {},
   "outputs": [
    {
     "name": "stdout",
     "output_type": "stream",
     "text": [
      "              precision    recall  f1-score   support\n",
      "\n",
      "           0       0.62      0.09      0.16       364\n",
      "           1       0.81      0.98      0.89      1384\n",
      "\n",
      "    accuracy                           0.80      1748\n",
      "   macro avg       0.71      0.54      0.52      1748\n",
      "weighted avg       0.77      0.80      0.74      1748\n",
      "\n"
     ]
    }
   ],
   "source": [
    "print(classification_report(y_test, rfcpred))"
   ]
  },
  {
   "cell_type": "code",
   "execution_count": 107,
   "metadata": {},
   "outputs": [
    {
     "name": "stdout",
     "output_type": "stream",
     "text": [
      "[[  34  330]\n",
      " [  21 1363]]\n"
     ]
    }
   ],
   "source": [
    "print(confusion_matrix(y_test, rfcpred))"
   ]
  },
  {
   "cell_type": "code",
   "execution_count": 108,
   "metadata": {},
   "outputs": [],
   "source": [
    "tsmerge = tsmerge.fillna(0)"
   ]
  },
  {
   "cell_type": "code",
   "execution_count": 109,
   "metadata": {},
   "outputs": [],
   "source": [
    "rfcpred = rfc.predict(tsmerge)"
   ]
  },
  {
   "cell_type": "code",
   "execution_count": 110,
   "metadata": {},
   "outputs": [
    {
     "data": {
      "text/html": [
       "<div>\n",
       "<style scoped>\n",
       "    .dataframe tbody tr th:only-of-type {\n",
       "        vertical-align: middle;\n",
       "    }\n",
       "\n",
       "    .dataframe tbody tr th {\n",
       "        vertical-align: top;\n",
       "    }\n",
       "\n",
       "    .dataframe thead th {\n",
       "        text-align: right;\n",
       "    }\n",
       "</style>\n",
       "<table border=\"1\" class=\"dataframe\">\n",
       "  <thead>\n",
       "    <tr style=\"text-align: right;\">\n",
       "      <th></th>\n",
       "      <th>customerid</th>\n",
       "      <th>Good_Bad_flag</th>\n",
       "    </tr>\n",
       "  </thead>\n",
       "  <tbody>\n",
       "    <tr>\n",
       "      <th>0</th>\n",
       "      <td>8a28afc7474813a40147639ec637156b</td>\n",
       "      <td>1</td>\n",
       "    </tr>\n",
       "    <tr>\n",
       "      <th>1</th>\n",
       "      <td>8a3735d5518aba7301518ac34413010d</td>\n",
       "      <td>1</td>\n",
       "    </tr>\n",
       "    <tr>\n",
       "      <th>2</th>\n",
       "      <td>8a76e7d443e6e97c0143ed099d102b1d</td>\n",
       "      <td>1</td>\n",
       "    </tr>\n",
       "    <tr>\n",
       "      <th>3</th>\n",
       "      <td>8a818823525dceef01525deda2480384</td>\n",
       "      <td>1</td>\n",
       "    </tr>\n",
       "    <tr>\n",
       "      <th>4</th>\n",
       "      <td>8a818926522ea5ef01523aff15c37482</td>\n",
       "      <td>1</td>\n",
       "    </tr>\n",
       "  </tbody>\n",
       "</table>\n",
       "</div>"
      ],
      "text/plain": [
       "                         customerid  Good_Bad_flag\n",
       "0  8a28afc7474813a40147639ec637156b              1\n",
       "1  8a3735d5518aba7301518ac34413010d              1\n",
       "2  8a76e7d443e6e97c0143ed099d102b1d              1\n",
       "3  8a818823525dceef01525deda2480384              1\n",
       "4  8a818926522ea5ef01523aff15c37482              1"
      ]
     },
     "execution_count": 110,
     "metadata": {},
     "output_type": "execute_result"
    }
   ],
   "source": [
    "ss = pd.read_csv('SampleSubmission (1).csv')\n",
    "ss.head()"
   ]
  },
  {
   "cell_type": "code",
   "execution_count": 111,
   "metadata": {},
   "outputs": [],
   "source": [
    "ss.Good_Bad_flag = rfcpred"
   ]
  },
  {
   "cell_type": "code",
   "execution_count": 112,
   "metadata": {},
   "outputs": [],
   "source": [
    "ss.to_csv('SubmissonRFC.csv', index = False)"
   ]
  },
  {
   "cell_type": "code",
   "execution_count": null,
   "metadata": {},
   "outputs": [],
   "source": []
  },
  {
   "cell_type": "markdown",
   "metadata": {},
   "source": [
    "## Stacking"
   ]
  },
  {
   "cell_type": "markdown",
   "metadata": {},
   "source": [
    "Specifically, we will evaluate the following five algorithms:\n",
    "\n",
    "* Logistic Regression.\n",
    "* k-Nearest Neighbors.\n",
    "* Decision Tree.\n",
    "* Support Vector Machine.\n",
    "* Naive Bayes."
   ]
  }
 ],
 "metadata": {
  "kernelspec": {
   "display_name": "Python 3",
   "language": "python",
   "name": "python3"
  },
  "language_info": {
   "codemirror_mode": {
    "name": "ipython",
    "version": 3
   },
   "file_extension": ".py",
   "mimetype": "text/x-python",
   "name": "python",
   "nbconvert_exporter": "python",
   "pygments_lexer": "ipython3",
   "version": "3.7.1"
  }
 },
 "nbformat": 4,
 "nbformat_minor": 4
}
